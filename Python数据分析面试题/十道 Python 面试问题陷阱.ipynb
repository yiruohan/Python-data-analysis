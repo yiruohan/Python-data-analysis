{
 "cells": [
  {
   "cell_type": "code",
   "execution_count": 18,
   "id": "175808f3",
   "metadata": {},
   "outputs": [
    {
     "name": "stdout",
     "output_type": "stream",
     "text": [
      "base show\n"
     ]
    }
   ],
   "source": [
    "# 问题1：请问如何修改以下Python代码，使得下面的代码调用类A的show方法\n",
    "class A(object):\n",
    "    def show(self):\n",
    "        print(\"base show\")\n",
    "\n",
    "class B(A):\n",
    "    def show(self):\n",
    "        print(\"derived show\")\n",
    "\n",
    "obj = B()\n",
    "obj.__class__ = A  # 增加\n",
    "obj.show()"
   ]
  },
  {
   "cell_type": "code",
   "execution_count": 19,
   "id": "89bd14df",
   "metadata": {},
   "outputs": [
    {
     "name": "stdout",
     "output_type": "stream",
     "text": [
      "a= 10 b= 20\n",
      "call:  90\n"
     ]
    }
   ],
   "source": [
    "# 问题2：请问如何修改以下Python代码，使得代码能够运行\n",
    "class A(object):\n",
    "    def __init__(self, a, b):\n",
    "        self.__a = a\n",
    "        self.__b = b\n",
    "    def myprint(self):\n",
    "        print('a=', self.__a, 'b=', self.__b)\n",
    "    def __call__(self, num):\n",
    "        print(\"call: \", num + self.__a)\n",
    "\n",
    "a1 = A(10, 20)\n",
    "a1.myprint()\n",
    "a1(80)"
   ]
  },
  {
   "cell_type": "code",
   "execution_count": 20,
   "id": "e4f75a92",
   "metadata": {},
   "outputs": [
    {
     "name": "stdout",
     "output_type": "stream",
     "text": [
      "NEW 5\n",
      "B INIT\n",
      "B fn\n",
      "NEW 20\n",
      "INIT 20\n",
      "A fn\n"
     ]
    }
   ],
   "source": [
    "# 问题3：下面这段代码的输出是什么\n",
    "class B(object):\n",
    "    def fn(self):\n",
    "        print(\"B fn\")\n",
    "    def __init__(self):\n",
    "        print(\"B INIT\")\n",
    "\n",
    "class A(object):\n",
    "    def fn(self):\n",
    "        print(\"A fn\")\n",
    "    \n",
    "    def __new__(cls, a):\n",
    "        print(\"NEW\", a)\n",
    "        if a>10:\n",
    "            return super(A, cls).__new__(cls)\n",
    "        return B()\n",
    "    \n",
    "    def __init__(self, a):\n",
    "        print(\"INIT\", a)\n",
    "\n",
    "a1 = A(5)\n",
    "a1.fn()\n",
    "a2 = A(20)\n",
    "a2.fn()"
   ]
  },
  {
   "cell_type": "code",
   "execution_count": 21,
   "id": "81d8a2de",
   "metadata": {},
   "outputs": [
    {
     "name": "stdout",
     "output_type": "stream",
     "text": [
      "[3, 4]\n",
      "[6, 8]\n",
      "{2: 4, 4: 16, 6: 36}\n",
      "{2: 'item4', 4: 'item16', 6: 'item36'}\n",
      "{'r', 'h', 'd'}\n"
     ]
    }
   ],
   "source": [
    "# 问题4：下面这段代码输出什么\n",
    "ls = [1, 2, 3, 4]\n",
    "list1 = [i for i in ls if i>2]\n",
    "print(list1)\n",
    "\n",
    "list2 = [i*2 for i in ls if i>2]\n",
    "print(list2)\n",
    "\n",
    "dic1 = {x: x**2 for x in (2, 4, 6)}\n",
    "print(dic1)\n",
    "\n",
    "dic2 = {x: 'item' + str(x**2) for x in (2, 4, 6)}\n",
    "print(dic2)\n",
    "\n",
    "set1 = {x for x in 'hello world' if x not in 'low level'}\n",
    "print(set1)"
   ]
  },
  {
   "cell_type": "code",
   "execution_count": 22,
   "id": "c06962a1",
   "metadata": {},
   "outputs": [
    {
     "name": "stdout",
     "output_type": "stream",
     "text": [
      "9\n",
      "9\n"
     ]
    }
   ],
   "source": [
    "# 问题5：下面这段代码输出什么\n",
    "num = 9\n",
    "def f1():\n",
    "    num = 20\n",
    "\n",
    "def f2():\n",
    "    print(num)\n",
    "\n",
    "f2()\n",
    "f1()\n",
    "f2()"
   ]
  },
  {
   "cell_type": "code",
   "execution_count": 23,
   "id": "1c17a35c",
   "metadata": {},
   "outputs": [
    {
     "name": "stdout",
     "output_type": "stream",
     "text": [
      "9\n",
      "20\n"
     ]
    }
   ],
   "source": [
    "# 问题5 扩展\n",
    "num = 9\n",
    "def f1():\n",
    "    global num\n",
    "    num = 20\n",
    "\n",
    "def f2():\n",
    "    print(num)\n",
    "\n",
    "f2()\n",
    "f1()\n",
    "f2()"
   ]
  },
  {
   "cell_type": "code",
   "execution_count": 25,
   "id": "8c238010",
   "metadata": {},
   "outputs": [],
   "source": [
    "# 问题6：如何使用一行代码交换两个变量值\n",
    "a = 8\n",
    "b = 9\n",
    "a,b = b,a"
   ]
  },
  {
   "cell_type": "code",
   "execution_count": 28,
   "id": "0b6a2deb",
   "metadata": {},
   "outputs": [
    {
     "name": "stdout",
     "output_type": "stream",
     "text": [
      "other fn: fn1\n",
      "default:33\n",
      "other fn: fn2\n",
      "default:hello\n",
      "other fn: fn3\n",
      "default:10\n"
     ]
    }
   ],
   "source": [
    "# 问题7：如何添加代码，使得没有定义的方法都调用mydefault方法\n",
    "class A(object):\n",
    "    def __init__(self, a, b):\n",
    "        self.a1 = a\n",
    "        self.b1 = b\n",
    "    def mydefault(self, *args):\n",
    "        print('default:' + str(args[0]))\n",
    "    def __getattr__(self, name):\n",
    "        print(\"other fn:\", name)\n",
    "        return self.mydefault\n",
    "        \n",
    "a1 = A(10, 20)\n",
    "a1.fn1(33)\n",
    "a1.fn2('hello')\n",
    "a1.fn3(10)"
   ]
  },
  {
   "cell_type": "code",
   "execution_count": 30,
   "id": "eb845bd5",
   "metadata": {},
   "outputs": [],
   "source": [
    "# 问题8：一个包里有三个模块，mod1.py , mod2.py , mod3.py ，但使用 from demopack import * 导入模块时，如何保证只有 mod1 、 mod3 被导入了。\n",
    "# 答:在包中增加 init.py 文件，并在文件中增加：\n",
    "# __all__ = ['mod1', 'mod3']"
   ]
  },
  {
   "cell_type": "code",
   "execution_count": 31,
   "id": "975cd62a",
   "metadata": {},
   "outputs": [
    {
     "name": "stdout",
     "output_type": "stream",
     "text": [
      "63\n"
     ]
    }
   ],
   "source": [
    "# 问题9：写一个函数，接收整数参数 n ，返回一个函数，函数返回n和参数的积。\n",
    "def mulby(num):\n",
    "    def gn(val):\n",
    "        return num * val\n",
    "    return gn\n",
    "\n",
    "zw = mulby(7)\n",
    "print(zw(9))"
   ]
  },
  {
   "cell_type": "code",
   "execution_count": 34,
   "id": "488e69e3",
   "metadata": {},
   "outputs": [
    {
     "name": "stdout",
     "output_type": "stream",
     "text": [
      "firstXXXXXXXXXX\n"
     ]
    }
   ],
   "source": [
    "# 问题10：请问下面的代码有什么隐患\n",
    "def strtest1(num):\n",
    "    str = \"first\"\n",
    "    for i in range(num):\n",
    "        str += \"X\"\n",
    "    return str\n",
    "print(strtest1(10))"
   ]
  },
  {
   "cell_type": "code",
   "execution_count": null,
   "id": "08e2ce35",
   "metadata": {},
   "outputs": [],
   "source": []
  }
 ],
 "metadata": {
  "kernelspec": {
   "display_name": "Python 3 (ipykernel)",
   "language": "python",
   "name": "python3"
  },
  "language_info": {
   "codemirror_mode": {
    "name": "ipython",
    "version": 3
   },
   "file_extension": ".py",
   "mimetype": "text/x-python",
   "name": "python",
   "nbconvert_exporter": "python",
   "pygments_lexer": "ipython3",
   "version": "3.9.7"
  }
 },
 "nbformat": 4,
 "nbformat_minor": 5
}
