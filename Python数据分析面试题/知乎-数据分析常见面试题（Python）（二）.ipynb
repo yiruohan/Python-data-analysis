{
 "cells": [
  {
   "cell_type": "code",
   "execution_count": 1,
   "id": "c8fe4dd3",
   "metadata": {},
   "outputs": [
    {
     "name": "stdout",
     "output_type": "stream",
     "text": [
      "9\n",
      "8\n",
      "7\n",
      "6\n",
      "5\n",
      "4\n",
      "3\n",
      "2\n",
      "1\n"
     ]
    }
   ],
   "source": [
    "# 1. 取出数中各位上的数字：\n",
    "# 给定字符串123456789\n",
    "\n",
    "def enumerate_number(n):\n",
    "    while n>0:\n",
    "        print(n%10)\n",
    "        n = n//10\n",
    "\n",
    "enumerate_number(123456789)"
   ]
  },
  {
   "cell_type": "code",
   "execution_count": 5,
   "id": "7135be8c",
   "metadata": {},
   "outputs": [
    {
     "name": "stdout",
     "output_type": "stream",
     "text": [
      "['1', '2', '3', '1', '1', '6', '6', '6']\n"
     ]
    },
    {
     "data": {
      "text/plain": [
       "['123', '11', '666']"
      ]
     },
     "execution_count": 5,
     "metadata": {},
     "output_type": "execute_result"
    }
   ],
   "source": [
    "# 2. 从字符串中提取数字：\n",
    "# 方法一：用python三元表达式结构，使用方法isdigit()判断\n",
    "\n",
    "str = \"hello 123 as string what is double11, 666\"\n",
    "list1 = [s for s in str if s.isdigit()]\n",
    "print(list1)\n",
    "\n",
    "# 方法二：用python中的正则表达式包re中的方法findall，将查找的模式pattern设置为d，d表示数字；\n",
    "# 如果只需要用单词分隔符分隔数字，则可设置成b\n",
    "import re\n",
    "re.findall(r\"\\d+\", str)\n",
    "# re.findall(r\"\\b\\d+\\b\", str)  # 只需要用单词分隔符分隔数字\n"
   ]
  },
  {
   "cell_type": "code",
   "execution_count": 10,
   "id": "14efc905",
   "metadata": {},
   "outputs": [
    {
     "name": "stdout",
     "output_type": "stream",
     "text": [
      "[1, 2, 3, 4, 6, 5, 7, 9]\n",
      "[1, 2, 3, 4, 5, 6, 7, 9]\n"
     ]
    }
   ],
   "source": [
    "# 3. 列表元素去重：\n",
    "# 方法一：用for循环逐个复制列表元素，并判断是否存在\n",
    "list1 = [1,2,2,3,4,4,6,5,6,7,9]\n",
    "list2 = []\n",
    "for i in list1:\n",
    "    if i not in list2:\n",
    "        list2.append(i)\n",
    "print(list2)\n",
    "\n",
    "\n",
    "# 方法二：集合set()强制转换\n",
    "set1 = set(list1)\n",
    "list2 = list(set1)\n",
    "print(list2)"
   ]
  },
  {
   "cell_type": "code",
   "execution_count": null,
   "id": "7cf1006f",
   "metadata": {},
   "outputs": [],
   "source": []
  }
 ],
 "metadata": {
  "kernelspec": {
   "display_name": "Python 3 (ipykernel)",
   "language": "python",
   "name": "python3"
  },
  "language_info": {
   "codemirror_mode": {
    "name": "ipython",
    "version": 3
   },
   "file_extension": ".py",
   "mimetype": "text/x-python",
   "name": "python",
   "nbconvert_exporter": "python",
   "pygments_lexer": "ipython3",
   "version": "3.9.7"
  }
 },
 "nbformat": 4,
 "nbformat_minor": 5
}
