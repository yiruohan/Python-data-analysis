{
 "cells": [
  {
   "cell_type": "code",
   "execution_count": 6,
   "id": "cfbfbf9a",
   "metadata": {},
   "outputs": [
    {
     "name": "stdout",
     "output_type": "stream",
     "text": [
      "[0, 1, 2, 3, 4, 5, 6, 7, 8, 9, 10, 11, 12, 13, 14, 15, 16, 17, 18, 19, 20, 21, 22, 23, 24, 25, 26, 27, 28, 29, 30, 31, 32, 33, 34, 35, 36, 37, 38, 39, 40, 41, 42, 43, 44, 45, 46, 47, 48, 49, 50, 51, 52, 53, 54, 55, 56, 57, 58, 59, 60, 61, 62, 63, 64, 65, 66, 67, 68, 69, 70, 71, 72, 73, 74, 75, 76, 77, 78, 79, 80, 81, 82, 83, 84, 85, 86, 87, 88, 89, 90, 91, 92, 93, 94, 95, 96, 97, 98, 99, 100]\n"
     ]
    }
   ],
   "source": [
    "# 1. 列表添加元素、取余运算、for循环\n",
    "# 输出0到100（含100）间的偶数：\n",
    "a = []\n",
    "# for i in range(0, 101):\n",
    "#     if i%2 == 0:\n",
    "#         a.append(i)\n",
    "\n",
    "for i in range(0,101,2):\n",
    "    a.append(i)\n",
    "print(a)"
   ]
  },
  {
   "cell_type": "code",
   "execution_count": 9,
   "id": "6f1c3248",
   "metadata": {},
   "outputs": [
    {
     "name": "stdout",
     "output_type": "stream",
     "text": [
      "数的个数：60\n",
      "这些数分别是：\n",
      "[123, 124, 125, 132, 134, 135, 142, 143, 145, 152, 153, 154, 213, 214, 215, 231, 234, 235, 241, 243, 245, 251, 253, 254, 312, 314, 315, 321, 324, 325, 341, 342, 345, 351, 352, 354, 412, 413, 415, 421, 423, 425, 431, 432, 435, 451, 452, 453, 512, 513, 514, 521, 523, 524, 531, 532, 534, 541, 542, 543]\n"
     ]
    }
   ],
   "source": [
    "# 2. 组合计数：列表输出、不等关系判断\n",
    "# 1、2、3、4、5五个数字可以组成多少个各数位上数字不同的三位数？分别是多少？\n",
    "a = []\n",
    "for i in range(1,6):\n",
    "    for j in range(1,6):\n",
    "        for k in range(1,6):\n",
    "            if i!=j and i!=k and j!=k:\n",
    "                a.append(i*100+j*10+k)\n",
    "print(\"数的个数：\" + str(len(a)))\n",
    "print(\"这些数分别是：\\n\" + str(a))"
   ]
  },
  {
   "cell_type": "code",
   "execution_count": 7,
   "id": "7401a851",
   "metadata": {},
   "outputs": [
    {
     "name": "stdout",
     "output_type": "stream",
     "text": [
      "55\n"
     ]
    }
   ],
   "source": [
    "# 3. 递归函数\n",
    "# 求斐波那契数列的和：\n",
    "\n",
    "def fibonacci(n):\n",
    "    if n==1 or n==2:\n",
    "        return 1\n",
    "    \n",
    "    return fibonacci(n-1)+fibonacci(n-2)\n",
    "\n",
    "print(fibonacci(10))  # 输出当n=10时，斐波那契数列的值"
   ]
  },
  {
   "cell_type": "code",
   "execution_count": null,
   "id": "4ee2cdd4",
   "metadata": {},
   "outputs": [],
   "source": []
  }
 ],
 "metadata": {
  "kernelspec": {
   "display_name": "Python 3 (ipykernel)",
   "language": "python",
   "name": "python3"
  },
  "language_info": {
   "codemirror_mode": {
    "name": "ipython",
    "version": 3
   },
   "file_extension": ".py",
   "mimetype": "text/x-python",
   "name": "python",
   "nbconvert_exporter": "python",
   "pygments_lexer": "ipython3",
   "version": "3.9.7"
  }
 },
 "nbformat": 4,
 "nbformat_minor": 5
}
