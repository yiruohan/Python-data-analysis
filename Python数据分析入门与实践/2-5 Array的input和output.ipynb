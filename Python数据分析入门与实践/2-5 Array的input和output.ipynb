{
 "cells": [
  {
   "cell_type": "markdown",
   "id": "4be97fb3",
   "metadata": {},
   "source": [
    "# 使用pickle序列化numpy array"
   ]
  },
  {
   "cell_type": "code",
   "execution_count": 1,
   "id": "3f2c8cea",
   "metadata": {},
   "outputs": [],
   "source": [
    "import pickle\n",
    "import numpy as np"
   ]
  },
  {
   "cell_type": "code",
   "execution_count": 2,
   "id": "23550255",
   "metadata": {},
   "outputs": [],
   "source": [
    "x = np.arange(10)"
   ]
  },
  {
   "cell_type": "code",
   "execution_count": 3,
   "id": "c451b750",
   "metadata": {},
   "outputs": [
    {
     "data": {
      "text/plain": [
       "array([0, 1, 2, 3, 4, 5, 6, 7, 8, 9])"
      ]
     },
     "execution_count": 3,
     "metadata": {},
     "output_type": "execute_result"
    }
   ],
   "source": [
    "x"
   ]
  },
  {
   "cell_type": "code",
   "execution_count": 4,
   "id": "97bf80ff",
   "metadata": {},
   "outputs": [],
   "source": [
    "f = open('x.pk1','wb')"
   ]
  },
  {
   "cell_type": "code",
   "execution_count": 5,
   "id": "9c0c91f6",
   "metadata": {},
   "outputs": [],
   "source": [
    "pickle.dump(x, f)"
   ]
  },
  {
   "cell_type": "code",
   "execution_count": 7,
   "id": "fd33e386",
   "metadata": {},
   "outputs": [
    {
     "name": "stdout",
     "output_type": "stream",
     "text": [
      " 驱动器 C 中的卷是 Win\n",
      " 卷的序列号是 CE44-B535\n",
      "\n",
      " C:\\Users\\matingting 的目录\n",
      "\n",
      "2022/02/15  16:34    <DIR>          .\n",
      "2022/02/15  16:34    <DIR>          ..\n",
      "2022/02/15  13:57    <DIR>          .android\n",
      "2022/02/15  10:24            28,494 .bash_history\n",
      "2021/12/30  10:04    <DIR>          .bifrost\n",
      "2022/02/15  13:57    <DIR>          .BigNox\n",
      "2021/08/20  14:10    <DIR>          .config\n",
      "2021/09/28  21:09               190 .gitconfig\n",
      "2022/02/15  16:33    <DIR>          .ipynb_checkpoints\n",
      "2022/02/15  14:26    <DIR>          .ipython\n",
      "2022/01/24  13:16    <DIR>          .jupyter\n",
      "2022/02/15  10:16               104 .lesshst\n",
      "2021/08/24  16:57    <DIR>          .umi3\n",
      "2021/08/20  13:29    <DIR>          .vscode\n",
      "2021/08/24  16:31               121 .yarnrc\n",
      "2021/08/17  10:20    <DIR>          3D Objects\n",
      "2021/09/27  16:54         8,294,826 app_download_native_report202108.sql\n",
      "2022/02/15  15:58             9,468 Array.ipynb\n",
      "2022/02/15  16:34             1,580 Array的input和output.ipynb\n",
      "2021/08/17  10:20    <DIR>          Contacts\n",
      "2021/11/04  11:24               300 d4ac4633ebd6440fa397b84f1bc94a3c.7z\n",
      "2022/02/15  14:57             1,173 demo.ipynb\n",
      "2022/02/15  14:25    <DIR>          Desktop\n",
      "2022/02/15  14:21    <DIR>          Documents\n",
      "2021/10/09  16:04    <DIR>          Downloads\n",
      "2021/08/17  10:20    <DIR>          Favorites\n",
      "2021/11/22  16:04    <DIR>          go\n",
      "2021/11/03  17:02                66 inittk.ini\n",
      "2021/11/03  17:01                41 inst.ini\n",
      "2021/08/17  10:20    <DIR>          Links\n",
      "2021/08/17  10:20    <DIR>          Music\n",
      "2021/11/03  17:01    <DIR>          Nox_share\n",
      "2021/11/03  17:01                45 nuuid.ini\n",
      "2021/08/12  16:00    <DIR>          OneDrive\n",
      "2022/01/09  16:18    <DIR>          Pictures\n",
      "2021/08/17  10:20    <DIR>          Saved Games\n",
      "2021/08/17  10:20    <DIR>          Searches\n",
      "2021/11/03  17:01                53 useruid.ini\n",
      "2021/08/17  10:20    <DIR>          Videos\n",
      "2022/02/15  13:56    <DIR>          vmlogs\n",
      "2022/02/15  16:34                 0 x.pk1\n",
      "2022/02/15  16:31            17,825 数组与矩阵运算.ipynb\n",
      "              15 个文件      8,354,286 字节\n",
      "              27 个目录 52,690,178,048 可用字节\n"
     ]
    }
   ],
   "source": [
    "!dir"
   ]
  },
  {
   "cell_type": "code",
   "execution_count": 8,
   "id": "a7b8d90e",
   "metadata": {},
   "outputs": [],
   "source": [
    "f = open('x.pk1','rb')"
   ]
  },
  {
   "cell_type": "code",
   "execution_count": 9,
   "id": "a918b700",
   "metadata": {},
   "outputs": [
    {
     "data": {
      "text/plain": [
       "array([0, 1, 2, 3, 4, 5, 6, 7, 8, 9])"
      ]
     },
     "execution_count": 9,
     "metadata": {},
     "output_type": "execute_result"
    }
   ],
   "source": [
    "pickle.load(f)"
   ]
  },
  {
   "cell_type": "code",
   "execution_count": 10,
   "id": "761fb5dd",
   "metadata": {},
   "outputs": [],
   "source": [
    "np.save('one_array', x)"
   ]
  },
  {
   "cell_type": "code",
   "execution_count": 11,
   "id": "2a2af5b0",
   "metadata": {},
   "outputs": [
    {
     "name": "stdout",
     "output_type": "stream",
     "text": [
      " 驱动器 C 中的卷是 Win\n",
      " 卷的序列号是 CE44-B535\n",
      "\n",
      " C:\\Users\\matingting 的目录\n",
      "\n",
      "2022/02/15  16:36    <DIR>          .\n",
      "2022/02/15  16:36    <DIR>          ..\n",
      "2022/02/15  13:57    <DIR>          .android\n",
      "2022/02/15  10:24            28,494 .bash_history\n",
      "2021/12/30  10:04    <DIR>          .bifrost\n",
      "2022/02/15  13:57    <DIR>          .BigNox\n",
      "2021/08/20  14:10    <DIR>          .config\n",
      "2021/09/28  21:09               190 .gitconfig\n",
      "2022/02/15  16:33    <DIR>          .ipynb_checkpoints\n",
      "2022/02/15  14:26    <DIR>          .ipython\n",
      "2022/01/24  13:16    <DIR>          .jupyter\n",
      "2022/02/15  10:16               104 .lesshst\n",
      "2021/08/24  16:57    <DIR>          .umi3\n",
      "2021/08/20  13:29    <DIR>          .vscode\n",
      "2021/08/24  16:31               121 .yarnrc\n",
      "2021/08/17  10:20    <DIR>          3D Objects\n",
      "2021/09/27  16:54         8,294,826 app_download_native_report202108.sql\n",
      "2022/02/15  15:58             9,468 Array.ipynb\n",
      "2022/02/15  16:36             5,386 Array的input和output.ipynb\n",
      "2021/08/17  10:20    <DIR>          Contacts\n",
      "2021/11/04  11:24               300 d4ac4633ebd6440fa397b84f1bc94a3c.7z\n",
      "2022/02/15  14:57             1,173 demo.ipynb\n",
      "2022/02/15  14:25    <DIR>          Desktop\n",
      "2022/02/15  14:21    <DIR>          Documents\n",
      "2021/10/09  16:04    <DIR>          Downloads\n",
      "2021/08/17  10:20    <DIR>          Favorites\n",
      "2021/11/22  16:04    <DIR>          go\n",
      "2021/11/03  17:02                66 inittk.ini\n",
      "2021/11/03  17:01                41 inst.ini\n",
      "2021/08/17  10:20    <DIR>          Links\n",
      "2021/08/17  10:20    <DIR>          Music\n",
      "2021/11/03  17:01    <DIR>          Nox_share\n",
      "2021/11/03  17:01                45 nuuid.ini\n",
      "2021/08/12  16:00    <DIR>          OneDrive\n",
      "2022/02/15  16:36               168 one_array.npy\n",
      "2022/01/09  16:18    <DIR>          Pictures\n",
      "2021/08/17  10:20    <DIR>          Saved Games\n",
      "2021/08/17  10:20    <DIR>          Searches\n",
      "2021/11/03  17:01                53 useruid.ini\n",
      "2021/08/17  10:20    <DIR>          Videos\n",
      "2022/02/15  13:56    <DIR>          vmlogs\n",
      "2022/02/15  16:35               187 x.pk1\n",
      "2022/02/15  16:31            17,825 数组与矩阵运算.ipynb\n",
      "              16 个文件      8,358,447 字节\n",
      "              27 个目录 52,680,667,136 可用字节\n"
     ]
    }
   ],
   "source": [
    "!dir"
   ]
  },
  {
   "cell_type": "code",
   "execution_count": 12,
   "id": "2098b791",
   "metadata": {},
   "outputs": [
    {
     "data": {
      "text/plain": [
       "array([0, 1, 2, 3, 4, 5, 6, 7, 8, 9])"
      ]
     },
     "execution_count": 12,
     "metadata": {},
     "output_type": "execute_result"
    }
   ],
   "source": [
    "np.load('one_array.npy')"
   ]
  },
  {
   "cell_type": "code",
   "execution_count": 13,
   "id": "3a219681",
   "metadata": {},
   "outputs": [],
   "source": [
    "y = np.arange(20)"
   ]
  },
  {
   "cell_type": "code",
   "execution_count": 14,
   "id": "1fb101cc",
   "metadata": {},
   "outputs": [
    {
     "data": {
      "text/plain": [
       "array([ 0,  1,  2,  3,  4,  5,  6,  7,  8,  9, 10, 11, 12, 13, 14, 15, 16,\n",
       "       17, 18, 19])"
      ]
     },
     "execution_count": 14,
     "metadata": {},
     "output_type": "execute_result"
    }
   ],
   "source": [
    "y"
   ]
  },
  {
   "cell_type": "code",
   "execution_count": 15,
   "id": "674932cf",
   "metadata": {},
   "outputs": [],
   "source": [
    "np.savez('two_array.npz', a=x, b=y)"
   ]
  },
  {
   "cell_type": "code",
   "execution_count": 16,
   "id": "571b9590",
   "metadata": {},
   "outputs": [
    {
     "name": "stdout",
     "output_type": "stream",
     "text": [
      " 驱动器 C 中的卷是 Win\n",
      " 卷的序列号是 CE44-B535\n",
      "\n",
      " C:\\Users\\matingting 的目录\n",
      "\n",
      "2022/02/15  16:37    <DIR>          .\n",
      "2022/02/15  16:37    <DIR>          ..\n",
      "2022/02/15  13:57    <DIR>          .android\n",
      "2022/02/15  10:24            28,494 .bash_history\n",
      "2021/12/30  10:04    <DIR>          .bifrost\n",
      "2022/02/15  13:57    <DIR>          .BigNox\n",
      "2021/08/20  14:10    <DIR>          .config\n",
      "2021/09/28  21:09               190 .gitconfig\n",
      "2022/02/15  16:33    <DIR>          .ipynb_checkpoints\n",
      "2022/02/15  14:26    <DIR>          .ipython\n",
      "2022/01/24  13:16    <DIR>          .jupyter\n",
      "2022/02/15  10:16               104 .lesshst\n",
      "2021/08/24  16:57    <DIR>          .umi3\n",
      "2021/08/20  13:29    <DIR>          .vscode\n",
      "2021/08/24  16:31               121 .yarnrc\n",
      "2021/08/17  10:20    <DIR>          3D Objects\n",
      "2021/09/27  16:54         8,294,826 app_download_native_report202108.sql\n",
      "2022/02/15  15:58             9,468 Array.ipynb\n",
      "2022/02/15  16:36             5,386 Array的input和output.ipynb\n",
      "2021/08/17  10:20    <DIR>          Contacts\n",
      "2021/11/04  11:24               300 d4ac4633ebd6440fa397b84f1bc94a3c.7z\n",
      "2022/02/15  14:57             1,173 demo.ipynb\n",
      "2022/02/15  14:25    <DIR>          Desktop\n",
      "2022/02/15  14:21    <DIR>          Documents\n",
      "2021/10/09  16:04    <DIR>          Downloads\n",
      "2021/08/17  10:20    <DIR>          Favorites\n",
      "2021/11/22  16:04    <DIR>          go\n",
      "2021/11/03  17:02                66 inittk.ini\n",
      "2021/11/03  17:01                41 inst.ini\n",
      "2021/08/17  10:20    <DIR>          Links\n",
      "2021/08/17  10:20    <DIR>          Music\n",
      "2021/11/03  17:01    <DIR>          Nox_share\n",
      "2021/11/03  17:01                45 nuuid.ini\n",
      "2021/08/12  16:00    <DIR>          OneDrive\n",
      "2022/02/15  16:36               168 one_array.npy\n",
      "2022/01/09  16:18    <DIR>          Pictures\n",
      "2021/08/17  10:20    <DIR>          Saved Games\n",
      "2021/08/17  10:20    <DIR>          Searches\n",
      "2022/02/15  16:37               610 two_array.npz\n",
      "2021/11/03  17:01                53 useruid.ini\n",
      "2021/08/17  10:20    <DIR>          Videos\n",
      "2022/02/15  13:56    <DIR>          vmlogs\n",
      "2022/02/15  16:35               187 x.pk1\n",
      "2022/02/15  16:31            17,825 数组与矩阵运算.ipynb\n",
      "              17 个文件      8,359,057 字节\n",
      "              27 个目录 52,670,341,120 可用字节\n"
     ]
    }
   ],
   "source": [
    "!dir"
   ]
  },
  {
   "cell_type": "code",
   "execution_count": 17,
   "id": "f007f123",
   "metadata": {},
   "outputs": [
    {
     "data": {
      "text/plain": [
       "<numpy.lib.npyio.NpzFile at 0x17033c77df0>"
      ]
     },
     "execution_count": 17,
     "metadata": {},
     "output_type": "execute_result"
    }
   ],
   "source": [
    "np.load('two_array.npz')"
   ]
  },
  {
   "cell_type": "code",
   "execution_count": 18,
   "id": "df399057",
   "metadata": {},
   "outputs": [],
   "source": [
    "c = np.load('two_array.npz')"
   ]
  },
  {
   "cell_type": "code",
   "execution_count": 19,
   "id": "938e8d8c",
   "metadata": {},
   "outputs": [
    {
     "data": {
      "text/plain": [
       "array([0, 1, 2, 3, 4, 5, 6, 7, 8, 9])"
      ]
     },
     "execution_count": 19,
     "metadata": {},
     "output_type": "execute_result"
    }
   ],
   "source": [
    "c['a']"
   ]
  },
  {
   "cell_type": "code",
   "execution_count": 20,
   "id": "4d95dad9",
   "metadata": {},
   "outputs": [
    {
     "data": {
      "text/plain": [
       "array([ 0,  1,  2,  3,  4,  5,  6,  7,  8,  9, 10, 11, 12, 13, 14, 15, 16,\n",
       "       17, 18, 19])"
      ]
     },
     "execution_count": 20,
     "metadata": {},
     "output_type": "execute_result"
    }
   ],
   "source": [
    "c['b']"
   ]
  },
  {
   "cell_type": "code",
   "execution_count": null,
   "id": "a9f416b4",
   "metadata": {},
   "outputs": [],
   "source": []
  }
 ],
 "metadata": {
  "kernelspec": {
   "display_name": "Python 3 (ipykernel)",
   "language": "python",
   "name": "python3"
  },
  "language_info": {
   "codemirror_mode": {
    "name": "ipython",
    "version": 3
   },
   "file_extension": ".py",
   "mimetype": "text/x-python",
   "name": "python",
   "nbconvert_exporter": "python",
   "pygments_lexer": "ipython3",
   "version": "3.9.7"
  }
 },
 "nbformat": 4,
 "nbformat_minor": 5
}
