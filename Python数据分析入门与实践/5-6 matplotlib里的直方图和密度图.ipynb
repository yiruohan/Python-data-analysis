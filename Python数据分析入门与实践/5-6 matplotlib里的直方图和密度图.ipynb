{
 "cells": [
  {
   "cell_type": "code",
   "execution_count": 1,
   "id": "abc20dd9",
   "metadata": {},
   "outputs": [],
   "source": [
    "import numpy as np\n",
    "import pandas as pd\n",
    "import matplotlib.pyplot as plt\n",
    "from pandas import Series, DataFrame"
   ]
  },
  {
   "cell_type": "markdown",
   "id": "1fbb88cd",
   "metadata": {},
   "source": [
    "# 直方图"
   ]
  },
  {
   "cell_type": "code",
   "execution_count": 15,
   "id": "8e617aa1",
   "metadata": {},
   "outputs": [
    {
     "data": {
      "text/plain": [
       "(array([  6.,  22.,  55., 127., 210., 234., 171., 115.,  43.,  17.]),\n",
       " array([-3.24995597, -2.65054559, -2.0511352 , -1.45172482, -0.85231444,\n",
       "        -0.25290405,  0.34650633,  0.94591672,  1.5453271 ,  2.14473748,\n",
       "         2.74414787]),\n",
       " <BarContainer object of 10 artists>)"
      ]
     },
     "execution_count": 15,
     "metadata": {},
     "output_type": "execute_result"
    },
    {
     "data": {
      "image/png": "[encoded data removed]",
      "text/plain": [
       "<Figure size 432x288 with 1 Axes>"
      ]
     },
     "metadata": {
      "needs_background": "light"
     },
     "output_type": "display_data"
    }
   ],
   "source": [
    "s = Series(np.random.randn(1000))\n",
    "plt.hist(s)"
   ]
  },
  {
   "cell_type": "code",
   "execution_count": 16,
   "id": "6ddfc5bc",
   "metadata": {},
   "outputs": [
    {
     "data": {
      "text/plain": [
       "(array([  6.,  22.,  55., 127., 210., 234., 171., 115.,  43.,  17.]),\n",
       " array([-3.24995597, -2.65054559, -2.0511352 , -1.45172482, -0.85231444,\n",
       "        -0.25290405,  0.34650633,  0.94591672,  1.5453271 ,  2.14473748,\n",
       "         2.74414787]),\n",
       " <BarContainer object of 10 artists>)"
      ]
     },
     "execution_count": 16,
     "metadata": {},
     "output_type": "execute_result"
    },
    {
     "data": {
      "image/png": "[encoded data removed]",
      "text/plain": [
       "<Figure size 432x288 with 1 Axes>"
      ]
     },
     "metadata": {
      "needs_background": "light"
     },
     "output_type": "display_data"
    }
   ],
   "source": [
    "plt.hist(s, rwidth=0.9)"
   ]
  },
  {
   "cell_type": "code",
   "execution_count": 17,
   "id": "7866aebd",
   "metadata": {},
   "outputs": [
    {
     "data": {
      "text/plain": [
       "array([0, 1, 2, 3, 4, 5, 6, 7, 8, 9])"
      ]
     },
     "execution_count": 17,
     "metadata": {},
     "output_type": "execute_result"
    }
   ],
   "source": [
    "a = np.arange(10)\n",
    "a"
   ]
  },
  {
   "cell_type": "code",
   "execution_count": 18,
   "id": "d6c85183",
   "metadata": {},
   "outputs": [
    {
     "data": {
      "text/plain": [
       "(array([1., 1., 1., 1., 1., 1., 1., 1., 1., 1.]),\n",
       " array([0. , 0.9, 1.8, 2.7, 3.6, 4.5, 5.4, 6.3, 7.2, 8.1, 9. ]),\n",
       " <BarContainer object of 10 artists>)"
      ]
     },
     "execution_count": 18,
     "metadata": {},
     "output_type": "execute_result"
    },
    {
     "data": {
      "image/png": "[encoded data removed]",
      "text/plain": [
       "<Figure size 432x288 with 1 Axes>"
      ]
     },
     "metadata": {
      "needs_background": "light"
     },
     "output_type": "display_data"
    }
   ],
   "source": [
    "plt.hist(a, rwidth=0.9)"
   ]
  },
  {
   "cell_type": "code",
   "execution_count": 19,
   "id": "4f99fc5c",
   "metadata": {},
   "outputs": [
    {
     "data": {
      "text/plain": [
       "0      1.234429\n",
       "1     -0.157434\n",
       "2     -0.587175\n",
       "3      0.583882\n",
       "4     -0.612201\n",
       "         ...   \n",
       "995   -0.155292\n",
       "996   -1.126121\n",
       "997   -0.173816\n",
       "998    0.608625\n",
       "999   -0.862248\n",
       "Length: 1000, dtype: float64"
      ]
     },
     "execution_count": 19,
     "metadata": {},
     "output_type": "execute_result"
    }
   ],
   "source": [
    "s"
   ]
  },
  {
   "cell_type": "code",
   "execution_count": 20,
   "id": "9c63daa1",
   "metadata": {},
   "outputs": [
    {
     "data": {
      "image/png": "[encoded data removed]",
      "text/plain": [
       "<Figure size 432x288 with 1 Axes>"
      ]
     },
     "metadata": {
      "needs_background": "light"
     },
     "output_type": "display_data"
    }
   ],
   "source": [
    "re = plt.hist(s, rwidth=0.9)"
   ]
  },
  {
   "cell_type": "code",
   "execution_count": 21,
   "id": "af30bef5",
   "metadata": {},
   "outputs": [
    {
     "data": {
      "text/plain": [
       "(array([  6.,  22.,  55., 127., 210., 234., 171., 115.,  43.,  17.]),\n",
       " array([-3.24995597, -2.65054559, -2.0511352 , -1.45172482, -0.85231444,\n",
       "        -0.25290405,  0.34650633,  0.94591672,  1.5453271 ,  2.14473748,\n",
       "         2.74414787]),\n",
       " <BarContainer object of 10 artists>)"
      ]
     },
     "execution_count": 21,
     "metadata": {},
     "output_type": "execute_result"
    }
   ],
   "source": [
    "re"
   ]
  },
  {
   "cell_type": "code",
   "execution_count": 22,
   "id": "77e70e08",
   "metadata": {},
   "outputs": [
    {
     "data": {
      "text/plain": [
       "tuple"
      ]
     },
     "execution_count": 22,
     "metadata": {},
     "output_type": "execute_result"
    }
   ],
   "source": [
    "type(re)"
   ]
  },
  {
   "cell_type": "code",
   "execution_count": 23,
   "id": "bd31abe7",
   "metadata": {},
   "outputs": [
    {
     "data": {
      "text/plain": [
       "3"
      ]
     },
     "execution_count": 23,
     "metadata": {},
     "output_type": "execute_result"
    }
   ],
   "source": [
    "len(re)"
   ]
  },
  {
   "cell_type": "code",
   "execution_count": 24,
   "id": "42baef86",
   "metadata": {},
   "outputs": [
    {
     "data": {
      "text/plain": [
       "array([  6.,  22.,  55., 127., 210., 234., 171., 115.,  43.,  17.])"
      ]
     },
     "execution_count": 24,
     "metadata": {},
     "output_type": "execute_result"
    }
   ],
   "source": [
    "re[0]"
   ]
  },
  {
   "cell_type": "code",
   "execution_count": 25,
   "id": "5a9ff3f5",
   "metadata": {},
   "outputs": [
    {
     "data": {
      "text/plain": [
       "array([-3.24995597, -2.65054559, -2.0511352 , -1.45172482, -0.85231444,\n",
       "       -0.25290405,  0.34650633,  0.94591672,  1.5453271 ,  2.14473748,\n",
       "        2.74414787])"
      ]
     },
     "execution_count": 25,
     "metadata": {},
     "output_type": "execute_result"
    }
   ],
   "source": [
    "re[1]"
   ]
  },
  {
   "cell_type": "code",
   "execution_count": 26,
   "id": "fef6dbc4",
   "metadata": {},
   "outputs": [
    {
     "data": {
      "text/plain": [
       "<BarContainer object of 10 artists>"
      ]
     },
     "execution_count": 26,
     "metadata": {},
     "output_type": "execute_result"
    }
   ],
   "source": [
    "re[2]"
   ]
  },
  {
   "cell_type": "code",
   "execution_count": 27,
   "id": "69a92ba0",
   "metadata": {},
   "outputs": [
    {
     "data": {
      "text/plain": [
       "(array([  6.,  22.,  55., 127., 210., 234., 171., 115.,  43.,  17.]),\n",
       " array([-3.24995597, -2.65054559, -2.0511352 , -1.45172482, -0.85231444,\n",
       "        -0.25290405,  0.34650633,  0.94591672,  1.5453271 ,  2.14473748,\n",
       "         2.74414787]),\n",
       " <BarContainer object of 10 artists>)"
      ]
     },
     "execution_count": 27,
     "metadata": {},
     "output_type": "execute_result"
    },
    {
     "data": {
      "image/png": "[encoded data removed]",
      "text/plain": [
       "<Figure size 432x288 with 1 Axes>"
      ]
     },
     "metadata": {
      "needs_background": "light"
     },
     "output_type": "display_data"
    }
   ],
   "source": [
    "plt.hist(s)"
   ]
  },
  {
   "cell_type": "code",
   "execution_count": 28,
   "id": "55d97df2",
   "metadata": {},
   "outputs": [
    {
     "data": {
      "text/plain": [
       "(array([  6.,  22.,  55., 127., 210., 234., 171., 115.,  43.,  17.]),\n",
       " array([-3.24995597, -2.65054559, -2.0511352 , -1.45172482, -0.85231444,\n",
       "        -0.25290405,  0.34650633,  0.94591672,  1.5453271 ,  2.14473748,\n",
       "         2.74414787]),\n",
       " <BarContainer object of 10 artists>)"
      ]
     },
     "execution_count": 28,
     "metadata": {},
     "output_type": "execute_result"
    },
    {
     "data": {
      "image/png": "[encoded data removed]",
      "text/plain": [
       "<Figure size 432x288 with 1 Axes>"
      ]
     },
     "metadata": {
      "needs_background": "light"
     },
     "output_type": "display_data"
    }
   ],
   "source": [
    "plt.hist(s, rwidth=0.9)"
   ]
  },
  {
   "cell_type": "code",
   "execution_count": 29,
   "id": "cc69af1c",
   "metadata": {},
   "outputs": [
    {
     "data": {
      "text/plain": [
       "(array([  2.,   4.,   3.,  19.,  24.,  31.,  57.,  70., 105., 105., 113.,\n",
       "        121.,  99.,  72.,  60.,  55.,  28.,  15.,  10.,   7.]),\n",
       " array([-3.24995597, -2.95025078, -2.65054559, -2.3508404 , -2.0511352 ,\n",
       "        -1.75143001, -1.45172482, -1.15201963, -0.85231444, -0.55260924,\n",
       "        -0.25290405,  0.04680114,  0.34650633,  0.64621152,  0.94591672,\n",
       "         1.24562191,  1.5453271 ,  1.84503229,  2.14473748,  2.44444268,\n",
       "         2.74414787]),\n",
       " <BarContainer object of 20 artists>)"
      ]
     },
     "execution_count": 29,
     "metadata": {},
     "output_type": "execute_result"
    },
    {
     "data": {
      "image/png": "[encoded data removed]",
      "text/plain": [
       "<Figure size 432x288 with 1 Axes>"
      ]
     },
     "metadata": {
      "needs_background": "light"
     },
     "output_type": "display_data"
    }
   ],
   "source": [
    "plt.hist(s, rwidth=0.9, bins=20)"
   ]
  },
  {
   "cell_type": "code",
   "execution_count": 30,
   "id": "31e8fede",
   "metadata": {},
   "outputs": [
    {
     "data": {
      "text/plain": [
       "(array([ 1.,  1.,  0.,  0.,  0.,  0.,  0.,  0.,  0.,  0.,  0.,  1.,  0.,\n",
       "         0.,  0.,  1.,  0.,  0.,  1.,  1.,  0.,  1.,  0.,  0.,  0.,  0.,\n",
       "         0.,  0.,  2.,  0.,  4.,  1.,  0.,  1.,  1.,  4.,  1.,  1.,  3.,\n",
       "         3.,  1.,  3.,  1.,  0.,  3.,  3.,  0.,  3.,  4.,  6.,  2.,  4.,\n",
       "         6.,  1.,  2.,  3.,  4.,  2.,  2.,  5.,  1.,  6., 12.,  5.,  2.,\n",
       "         7.,  2.,  4.,  8., 10.,  6., 13.,  7.,  4., 10.,  5.,  5.,  6.,\n",
       "        10.,  4.,  4.,  6., 11., 20.,  5., 11., 12., 18., 13.,  5.,  9.,\n",
       "         8., 10.,  7., 13.,  9., 17., 18.,  7.,  7., 12.,  6., 12., 13.,\n",
       "        14.,  9., 14.,  7., 15., 11.,  7., 11., 14.,  9., 16., 15., 13.,\n",
       "        11., 15., 10., 10., 13., 10.,  7., 14.,  8., 12., 13.,  9.,  3.,\n",
       "         2.,  4.,  7.,  8., 13.,  5.,  7.,  7.,  7., 12.,  7.,  7.,  6.,\n",
       "         5., 11.,  2.,  4.,  8.,  9.,  1.,  6., 11.,  5.,  6.,  3.,  5.,\n",
       "         5.,  3.,  3.,  8.,  3.,  2.,  4.,  4.,  3.,  1.,  2.,  3.,  2.,\n",
       "         4.,  2.,  2.,  1.,  4.,  2.,  1.,  1.,  1.,  1.,  0.,  1.,  0.,\n",
       "         1.,  4.,  0.,  0.,  2.,  1.,  0.,  1.,  1.,  1.,  0.,  1.,  1.,\n",
       "         1.,  1.,  0.,  0.,  1.]),\n",
       " array([-3.24995597, -3.21998545, -3.19001493, -3.16004441, -3.13007389,\n",
       "        -3.10010337, -3.07013286, -3.04016234, -3.01019182, -2.9802213 ,\n",
       "        -2.95025078, -2.92028026, -2.89030974, -2.86033922, -2.8303687 ,\n",
       "        -2.80039818, -2.77042766, -2.74045714, -2.71048663, -2.68051611,\n",
       "        -2.65054559, -2.62057507, -2.59060455, -2.56063403, -2.53066351,\n",
       "        -2.50069299, -2.47072247, -2.44075195, -2.41078143, -2.38081091,\n",
       "        -2.3508404 , -2.32086988, -2.29089936, -2.26092884, -2.23095832,\n",
       "        -2.2009878 , -2.17101728, -2.14104676, -2.11107624, -2.08110572,\n",
       "        -2.0511352 , -2.02116468, -1.99119416, -1.96122365, -1.93125313,\n",
       "        -1.90128261, -1.87131209, -1.84134157, -1.81137105, -1.78140053,\n",
       "        -1.75143001, -1.72145949, -1.69148897, -1.66151845, -1.63154793,\n",
       "        -1.60157742, -1.5716069 , -1.54163638, -1.51166586, -1.48169534,\n",
       "        -1.45172482, -1.4217543 , -1.39178378, -1.36181326, -1.33184274,\n",
       "        -1.30187222, -1.2719017 , -1.24193118, -1.21196067, -1.18199015,\n",
       "        -1.15201963, -1.12204911, -1.09207859, -1.06210807, -1.03213755,\n",
       "        -1.00216703, -0.97219651, -0.94222599, -0.91225547, -0.88228495,\n",
       "        -0.85231444, -0.82234392, -0.7923734 , -0.76240288, -0.73243236,\n",
       "        -0.70246184, -0.67249132, -0.6425208 , -0.61255028, -0.58257976,\n",
       "        -0.55260924, -0.52263872, -0.49266821, -0.46269769, -0.43272717,\n",
       "        -0.40275665, -0.37278613, -0.34281561, -0.31284509, -0.28287457,\n",
       "        -0.25290405, -0.22293353, -0.19296301, -0.16299249, -0.13302197,\n",
       "        -0.10305146, -0.07308094, -0.04311042, -0.0131399 ,  0.01683062,\n",
       "         0.04680114,  0.07677166,  0.10674218,  0.1367127 ,  0.16668322,\n",
       "         0.19665374,  0.22662426,  0.25659477,  0.28656529,  0.31653581,\n",
       "         0.34650633,  0.37647685,  0.40644737,  0.43641789,  0.46638841,\n",
       "         0.49635893,  0.52632945,  0.55629997,  0.58627049,  0.61624101,\n",
       "         0.64621152,  0.67618204,  0.70615256,  0.73612308,  0.7660936 ,\n",
       "         0.79606412,  0.82603464,  0.85600516,  0.88597568,  0.9159462 ,\n",
       "         0.94591672,  0.97588724,  1.00585775,  1.03582827,  1.06579879,\n",
       "         1.09576931,  1.12573983,  1.15571035,  1.18568087,  1.21565139,\n",
       "         1.24562191,  1.27559243,  1.30556295,  1.33553347,  1.36550398,\n",
       "         1.3954745 ,  1.42544502,  1.45541554,  1.48538606,  1.51535658,\n",
       "         1.5453271 ,  1.57529762,  1.60526814,  1.63523866,  1.66520918,\n",
       "         1.6951797 ,  1.72515022,  1.75512073,  1.78509125,  1.81506177,\n",
       "         1.84503229,  1.87500281,  1.90497333,  1.93494385,  1.96491437,\n",
       "         1.99488489,  2.02485541,  2.05482593,  2.08479645,  2.11476696,\n",
       "         2.14473748,  2.174708  ,  2.20467852,  2.23464904,  2.26461956,\n",
       "         2.29459008,  2.3245606 ,  2.35453112,  2.38450164,  2.41447216,\n",
       "         2.44444268,  2.4744132 ,  2.50438371,  2.53435423,  2.56432475,\n",
       "         2.59429527,  2.62426579,  2.65423631,  2.68420683,  2.71417735,\n",
       "         2.74414787]),\n",
       " <BarContainer object of 200 artists>)"
      ]
     },
     "execution_count": 30,
     "metadata": {},
     "output_type": "execute_result"
    },
    {
     "data": {
      "image/png": "[encoded data removed]",
      "text/plain": [
       "<Figure size 432x288 with 1 Axes>"
      ]
     },
     "metadata": {
      "needs_background": "light"
     },
     "output_type": "display_data"
    }
   ],
   "source": [
    "plt.hist(s, rwidth=0.9, bins=200)"
   ]
  },
  {
   "cell_type": "code",
   "execution_count": 31,
   "id": "f87b2678",
   "metadata": {},
   "outputs": [
    {
     "data": {
      "text/plain": [
       "(array([  2.,   4.,   3.,  19.,  24.,  31.,  57.,  70., 105., 105., 113.,\n",
       "        121.,  99.,  72.,  60.,  55.,  28.,  15.,  10.,   7.]),\n",
       " array([-3.24995597, -2.95025078, -2.65054559, -2.3508404 , -2.0511352 ,\n",
       "        -1.75143001, -1.45172482, -1.15201963, -0.85231444, -0.55260924,\n",
       "        -0.25290405,  0.04680114,  0.34650633,  0.64621152,  0.94591672,\n",
       "         1.24562191,  1.5453271 ,  1.84503229,  2.14473748,  2.44444268,\n",
       "         2.74414787]),\n",
       " <BarContainer object of 20 artists>)"
      ]
     },
     "execution_count": 31,
     "metadata": {},
     "output_type": "execute_result"
    },
    {
     "data": {
      "image/png": "[encoded data removed]",
      "text/plain": [
       "<Figure size 432x288 with 1 Axes>"
      ]
     },
     "metadata": {
      "needs_background": "light"
     },
     "output_type": "display_data"
    }
   ],
   "source": [
    "plt.hist(s, rwidth=0.9, bins=20, color='r')"
   ]
  },
  {
   "cell_type": "code",
   "execution_count": 32,
   "id": "a28818e0",
   "metadata": {},
   "outputs": [
    {
     "data": {
      "text/plain": [
       "<AxesSubplot:>"
      ]
     },
     "execution_count": 32,
     "metadata": {},
     "output_type": "execute_result"
    },
    {
     "data": {
      "image/png": "[encoded data removed]",
      "text/plain": [
       "<Figure size 432x288 with 1 Axes>"
      ]
     },
     "metadata": {
      "needs_background": "light"
     },
     "output_type": "display_data"
    }
   ],
   "source": [
    "s.plot()"
   ]
  },
  {
   "cell_type": "code",
   "execution_count": 33,
   "id": "c7fc8025",
   "metadata": {},
   "outputs": [
    {
     "data": {
      "text/plain": [
       "<AxesSubplot:ylabel='Density'>"
      ]
     },
     "execution_count": 33,
     "metadata": {},
     "output_type": "execute_result"
    },
    {
     "data": {
      "image/png": "[encoded data removed]",
      "text/plain": [
       "<Figure size 432x288 with 1 Axes>"
      ]
     },
     "metadata": {
      "needs_background": "light"
     },
     "output_type": "display_data"
    }
   ],
   "source": [
    "s.plot(kind='kde')"
   ]
  },
  {
   "cell_type": "code",
   "execution_count": null,
   "id": "f00e9643",
   "metadata": {},
   "outputs": [],
   "source": []
  }
 ],
 "metadata": {
  "kernelspec": {
   "display_name": "Python 3 (ipykernel)",
   "language": "python",
   "name": "python3"
  },
  "language_info": {
   "codemirror_mode": {
    "name": "ipython",
    "version": 3
   },
   "file_extension": ".py",
   "mimetype": "text/x-python",
   "name": "python",
   "nbconvert_exporter": "python",
   "pygments_lexer": "ipython3",
   "version": "3.9.7"
  }
 },
 "nbformat": 4,
 "nbformat_minor": 5
}
